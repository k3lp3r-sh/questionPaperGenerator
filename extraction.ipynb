{
 "cells": [
  {
   "cell_type": "code",
   "execution_count": null,
   "id": "2cca5e59",
   "metadata": {},
   "outputs": [
    {
     "name": "stdout",
     "output_type": "stream",
     "text": [
      "Extraction complete. Parsed questions:\n",
      "{'chapter': 'Some Basic Concepts of Chemistry', 'question': 'A mixture of sand and iodine can be separated by', 'options': {'a': 'crystallisation', 'b': 'distillation', 'c': 'sublimation', 'd': 'fractionation'}} \n",
      "----------------------------------------\n",
      "{'chapter': 'Some Basic Concepts of Chemistry', 'question': 'Difference in density is the basis of', 'options': {'a': 'ultrafiltration', 'b': 'molecular sieving', 'c': 'molecular attraction', 'd': 'gravity separation'}} \n",
      "----------------------------------------\n",
      "{'chapter': 'Some Basic Concepts of Chemistry', 'question': 'Which of the following is an example of a heterogeneous\\nsubstance?', 'options': {'a': 'Bottled water', 'b': 'Table salt', 'c': 'Pieces of copper', 'd': 'Candle'}} \n",
      "----------------------------------------\n"
     ]
    },
    {
     "name": "stderr",
     "output_type": "stream",
     "text": [
      "/tmp/ipykernel_88953/3103345402.py:50: DeprecationWarning: invalid escape sequence '\\ '\n",
      "  return text.encode('utf-8').decode('unicode_escape')\n",
      "/tmp/ipykernel_88953/3103345402.py:50: DeprecationWarning: invalid escape sequence '\\Z'\n",
      "  return text.encode('utf-8').decode('unicode_escape')\n"
     ]
    }
   ],
   "source": [
    "import fitz  # PyMuPDF\n",
    "import re\n",
    "import json\n",
    "\n",
    "# Define the chapter mapping from textbook page ranges\n",
    "chapter_pages = {\n",
    "    \"Some Basic Concepts of Chemistry\": (1, 18),\n",
    "    \"Structure of Atom\": (19, 38),\n",
    "    \"Classification of Elements and Periodicity in Properties\": (39, 52),\n",
    "    \"Chemical Bonding and Molecular Structure\": (53, 76),\n",
    "    \"States of Matter\": (77, 94),\n",
    "    \"Thermodynamics\": (95, 110),\n",
    "    \"Equilibrium\": (111, 134),\n",
    "    \"Redox Reactions\": (135, 146),\n",
    "    \"Hydrogen\": (147, 156),\n",
    "    \"The s-Block Elements\": (157, 168),\n",
    "    \"The p-Block Elements (Group 13 and 14)\": (169, 180),\n",
    "    \"Organic Chemistry – Some Basic Principles and Techniques\": (181, 202),\n",
    "    \"Hydrocarbons\": (203, 226),\n",
    "    \"Environmental Chemistry\": (227, 238),\n",
    "    \"The Solid State\": (239, 254),\n",
    "    \"Solutions\": (255, 274),\n",
    "    \"Electrochemistry\": (275, 294),\n",
    "    \"Chemical Kinetics\": (295, 316),\n",
    "    \"Surface Chemistry\": (317, 332),\n",
    "    \"General Principles and Processes of Isolation of Elements\": (333, 344),\n",
    "    \"The p-Block Elements (Group 15, 16, 17 and 18)\": (345, 366),\n",
    "    \"The d-and f-Block Elements\": (367, 382),\n",
    "    \"Coordination Compounds\": (383, 404),\n",
    "    \"Haloalkanes and Haloarenes\": (405, 422),\n",
    "    \"Alcohols, Phenols and Ethers\": (423, 440),\n",
    "    \"Aldehydes, Ketones and Carboxylic acids\": (441, 462),\n",
    "    \"Amines\": (463, 478),\n",
    "    \"Biomolecules\": (479, 498),\n",
    "    \"Polymers\": (499, 510),\n",
    "    \"Chemistry in Everyday Life\": (511, 520),\n",
    "}\n",
    "\n",
    "# Build a lookup: book page -> chapter\n",
    "chapter_map = {}\n",
    "for name, (start, end) in chapter_pages.items():\n",
    "    for page in range(start, end + 1):\n",
    "        chapter_map[page] = name\n",
    "\n",
    "def get_chapter_from_book_page(book_page):\n",
    "    return chapter_map.get(book_page, \"Unknown Chapter\")\n",
    "\n",
    "def decode_unicode(text):\n",
    "    try:\n",
    "        return text.encode('utf-8').decode('unicode_escape')\n",
    "    except Exception:\n",
    "        return text\n",
    "\n",
    "def extract_pdf_text(pdf_path, start_page=4):\n",
    "    doc = fitz.open(pdf_path)\n",
    "    pages = []\n",
    "    for i in range(start_page, len(doc)):\n",
    "        text = doc[i].get_text()\n",
    "        book_page = i + 1  # Assuming page 1 of PDF = book page 1\n",
    "        pages.append((book_page, f\"\\n--- Page {book_page} ---\\n\" + text))\n",
    "    return pages\n",
    "\n",
    "def parse_questions(text, chapter_name):\n",
    "    result = []\n",
    "\n",
    "    question_blocks = re.split(r'\\n(?=\\d+\\.)', text)\n",
    "\n",
    "    for block in question_blocks:\n",
    "        q_match = re.match(r'(\\d+)\\.\\n(.*)', block, re.DOTALL)\n",
    "        if not q_match:\n",
    "            continue\n",
    "\n",
    "        q_number = q_match.group(1)\n",
    "        q_content = decode_unicode(q_match.group(2).strip())\n",
    "\n",
    "        parts = re.split(r'\\(a\\)', q_content, maxsplit=1)\n",
    "        if len(parts) < 2:\n",
    "            continue\n",
    "\n",
    "        question_text = decode_unicode(parts[0].strip())\n",
    "        options_text = \"(a)\" + parts[1]\n",
    "\n",
    "        option_matches = re.findall(r'\\(([a-dA-D])\\)\\n(.*?)(?=\\n\\([a-dA-D]\\)|\\n\\d+\\.|\\Z)', options_text, re.DOTALL)\n",
    "        options = {}\n",
    "        for opt in option_matches:\n",
    "            letter = opt[0].lower()\n",
    "            opt_text = decode_unicode(opt[1].strip().replace('\\n', ' '))\n",
    "            options[letter] = opt_text\n",
    "\n",
    "        entry = {\n",
    "            'chapter': decode_unicode(chapter_name),\n",
    "            'question': question_text,\n",
    "            'options': options,\n",
    "        }\n",
    "        result.append(entry)\n",
    "    return result\n",
    "\n",
    "def main():\n",
    "    pdf_file_path = \"Chemistry-Question-Bank.pdf\"\n",
    "    pages = extract_pdf_text(pdf_file_path, start_page=4)\n",
    "\n",
    "    questions_data = []\n",
    "    for book_page, page_text in pages:\n",
    "        chapter_name = get_chapter_from_book_page(book_page)\n",
    "        page_questions = parse_questions(page_text, chapter_name)\n",
    "        questions_data.extend(page_questions)\n",
    "\n",
    "    with open(\"questions_output.json\", \"w\", encoding='utf-8') as f:\n",
    "        json.dump(questions_data, f, indent=2, ensure_ascii=False)\n",
    "\n",
    "    print(\"Extraction complete. Parsed questions:\")\n",
    "    for q in questions_data[:3]:\n",
    "        print(q, \"\\n\" + \"-\" * 40)\n",
    "\n",
    "    return questions_data\n",
    "\n",
    "if __name__ == '__main__':\n",
    "    questions_data = main()\n"
   ]
  },
  {
   "cell_type": "code",
   "execution_count": 70,
   "id": "ffd02cfd",
   "metadata": {},
   "outputs": [
    {
     "data": {
      "text/plain": [
       "{'chapter': 'The d-and f-Block Elements',\n",
       " 'question': 'Which one of the following ions has electronic\\nconfiguration [Ar] 3d6 ?',\n",
       " 'options': {'a': '3+ Ni',\n",
       "  'b': '3+ Mn',\n",
       "  'c': '3+ Fe',\n",
       "  'd': '3+ Co (At. Nos. Mn = 25, Fe = 26, Co = 27, Ni = 28)'}}"
      ]
     },
     "execution_count": 70,
     "metadata": {},
     "output_type": "execute_result"
    }
   ],
   "source": [
    "questions_data[2501]"
   ]
  },
  {
   "cell_type": "code",
   "execution_count": 71,
   "id": "5a375ea5",
   "metadata": {},
   "outputs": [
    {
     "data": {
      "text/plain": [
       "3802"
      ]
     },
     "execution_count": 71,
     "metadata": {},
     "output_type": "execute_result"
    }
   ],
   "source": [
    "len(questions_data)"
   ]
  },
  {
   "cell_type": "code",
   "execution_count": 72,
   "id": "3e6c5792",
   "metadata": {},
   "outputs": [
    {
     "name": "stdout",
     "output_type": "stream",
     "text": [
      "Filtered and saved. Sample cleaned questions:\n",
      "{'chapter': 'Some Basic Concepts of Chemistry', 'question': 'A mixture of sand and iodine can be separated by', 'options': {'a': 'crystallisation', 'b': 'distillation', 'c': 'sublimation', 'd': 'fractionation'}} \n",
      "----------------------------------------\n",
      "{'chapter': 'Some Basic Concepts of Chemistry', 'question': 'Difference in density is the basis of', 'options': {'a': 'ultrafiltration', 'b': 'molecular sieving', 'c': 'molecular attraction', 'd': 'gravity separation'}} \n",
      "----------------------------------------\n",
      "{'chapter': 'Some Basic Concepts of Chemistry', 'question': 'Which of the following is an example of a heterogeneous\\nsubstance?', 'options': {'a': 'Bottled water', 'b': 'Table salt', 'c': 'Pieces of copper', 'd': 'Candle'}} \n",
      "----------------------------------------\n"
     ]
    }
   ],
   "source": [
    "# Filter out questions with any empty field\n",
    "filtered_questions = [\n",
    "    q for q in questions_data if q['question'].strip() and q['chapter'].strip()\n",
    "]\n",
    "\n",
    "# Save the cleaned data\n",
    "with open(\"questions_output_cleaned.json\", \"w\") as f:\n",
    "    json.dump(filtered_questions, f, indent=2)\n",
    "\n",
    "print(\"Filtered and saved. Sample cleaned questions:\")\n",
    "for q in filtered_questions[:3]:\n",
    "    print(q, \"\\n\" + \"-\"*40)"
   ]
  },
  {
   "cell_type": "code",
   "execution_count": 73,
   "id": "bd8ec3e0",
   "metadata": {},
   "outputs": [
    {
     "data": {
      "text/plain": [
       "3115"
      ]
     },
     "execution_count": 73,
     "metadata": {},
     "output_type": "execute_result"
    }
   ],
   "source": [
    "len(filtered_questions)"
   ]
  }
 ],
 "metadata": {
  "kernelspec": {
   "display_name": ".venv",
   "language": "python",
   "name": "python3"
  },
  "language_info": {
   "codemirror_mode": {
    "name": "ipython",
    "version": 3
   },
   "file_extension": ".py",
   "mimetype": "text/x-python",
   "name": "python",
   "nbconvert_exporter": "python",
   "pygments_lexer": "ipython3",
   "version": "3.13.2"
  }
 },
 "nbformat": 4,
 "nbformat_minor": 5
}
